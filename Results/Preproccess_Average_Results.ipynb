{
  "nbformat": 4,
  "nbformat_minor": 0,
  "metadata": {
    "colab": {
      "name": "Preproccess Average Results.ipynb",
      "provenance": [],
      "collapsed_sections": [],
      "authorship_tag": "ABX9TyPHhHWwFyRruTV33V/xkTi8",
      "include_colab_link": true
    },
    "kernelspec": {
      "name": "python3",
      "display_name": "Python 3"
    }
  },
  "cells": [
    {
      "cell_type": "markdown",
      "metadata": {
        "id": "view-in-github",
        "colab_type": "text"
      },
      "source": [
        "<a href=\"https://colab.research.google.com/github/pasquale90/mthesis/blob/master/Results/Preproccess_Average_Results.ipynb\" target=\"_parent\"><img src=\"https://colab.research.google.com/assets/colab-badge.svg\" alt=\"Open In Colab\"/></a>"
      ]
    },
    {
      "cell_type": "code",
      "metadata": {
        "id": "-ls9gRNG1H-9"
      },
      "source": [
        "#Import Google_drive\n",
        "from google.colab import drive\n",
        "drive.mount('/content/gdrive')"
      ],
      "execution_count": null,
      "outputs": []
    },
    {
      "cell_type": "code",
      "metadata": {
        "id": "Jen4vBjaFEZu"
      },
      "source": [
        "import numpy as np\n",
        "import pandas as pd\n",
        "import os\n",
        "import ast"
      ],
      "execution_count": null,
      "outputs": []
    },
    {
      "cell_type": "code",
      "metadata": {
        "id": "o7vQDrJnqQgc",
        "cellView": "both"
      },
      "source": [
        "dataset = 'us8k'#'esc50'#\n",
        "exp = '4.stfts'#'3.mel'##'2.flat'#1.raw#\n",
        "mode = 2#1#80# 128#360#1#16#22#32"
      ],
      "execution_count": null,
      "outputs": []
    },
    {
      "cell_type": "code",
      "metadata": {
        "id": "-e6pL6HQFJJC"
      },
      "source": [
        "if dataset == 'esc50':\n",
        "  data_path='/content/gdrive/My Drive/dissertation/ESC-50-master/meta/esc50.csv'\n",
        "  num_folds = 5\n",
        "  class_column = 'category'\n",
        "elif dataset == 'us8k':\n",
        "  data_path='/content/gdrive/My Drive/dissertation/UrbanSound8K/metadata/UrbanSound8K.csv'\n",
        "  num_folds = 10\n",
        "  class_column = 'class'\n",
        "\n",
        "results_path = '/content/gdrive/My Drive/dissertation/RESULTS/'+exp+'/'+dataset+'/'+str(mode)+'/'\n",
        "\n",
        "data = pd.read_csv(data_path)\n",
        "print(data.shape)\n",
        "\n",
        "#store_sorted_class_names, in the same way that are returned from dataset_class in data.py\n",
        "classes = sorted(data[class_column].unique())\n",
        "num_classes = len(classes)\n",
        "print('num_classes',num_classes)\n",
        "print('classes',classes)\n",
        "print('num_folds',num_folds)\n",
        "print('results_path : ',results_path)"
      ],
      "execution_count": null,
      "outputs": []
    },
    {
      "cell_type": "markdown",
      "metadata": {
        "id": "StaMxMu2j3Xd"
      },
      "source": [
        "# ***Average Performance***"
      ]
    },
    {
      "cell_type": "code",
      "metadata": {
        "id": "gt981hojETLq"
      },
      "source": [
        "#OVERAL+FOR EACH FOLD RESULTS attempt to update\n",
        "best_results = []\n",
        "folds, epochs = [], []\n",
        "for file in os.listdir(results_path):\n",
        " if (file != 'best_results.csv' and file != 'foldclass_results.csv' and file!='class_average.csv'):\n",
        "  atrs = file.split('_')\n",
        "  dataexp = atrs[0]\n",
        "  fold = int(atrs [2][-1])\n",
        "  if fold == 0:\n",
        "    fold =10\n",
        "  typeres = atrs[-1].split('.csv')[0]\n",
        "  csv = pd.read_csv(results_path+file)\n",
        "  if typeres == 'overalF1':\n",
        "    best_result = csv.iloc[(csv['micro_f1']+csv['macro_f1']).idxmax()]\n",
        "    best_epoch = best_result['epochs']\n",
        "    folds.append(fold)\n",
        "    best_results.append(best_result)\n",
        "#best_results = best_results.sort_index(inplace=True)\n",
        "best_results = pd.DataFrame(best_results,index = folds)\n",
        "print (best_results)\n",
        "avg_precision = best_results['macro_precision'].sum()/num_folds\n",
        "avg_recall = best_results['macro_recall'].sum()/num_folds\n",
        "avg_macro = best_results['macro_f1'].sum()/num_folds\n",
        "print('avg_precision=',avg_precision)\n",
        "print('avg_recall=',avg_recall)\n",
        "print('avg_macro=',avg_macro)"
      ],
      "execution_count": null,
      "outputs": []
    },
    {
      "cell_type": "code",
      "metadata": {
        "id": "DU4GbSipVSuw"
      },
      "source": [
        "best_results.to_csv(results_path+'best_results.csv')    "
      ],
      "execution_count": null,
      "outputs": []
    },
    {
      "cell_type": "markdown",
      "metadata": {
        "id": "VS4WeF0VkApk"
      },
      "source": [
        "# ***Analytical Class Performance***"
      ]
    },
    {
      "cell_type": "code",
      "metadata": {
        "id": "gKDAg6Xri7kH"
      },
      "source": [
        "#Average Class_results\n",
        "class_metrics = ['precision','recall','f1']\n",
        "average = pd.DataFrame(data=np.zeros((num_classes,len(class_metrics))),index = classes,columns=class_metrics)\n",
        "foldclass_results = pd.DataFrame(index = folds,\n",
        "                                 columns=pd.MultiIndex.from_product([classes,class_metrics]))\n",
        "\n",
        "for file in os.listdir(results_path):\n",
        "  if (file.split('_')[-1].split('.csv')[0] == 'classF1'):\n",
        "\n",
        "    fold = int(file.split('_') [2][-1])\n",
        "    if fold == 0:\n",
        "      fold =10\n",
        "\n",
        "    csv = pd.read_csv(results_path+file)\n",
        "\n",
        "    #get the selected fold from best epochs\n",
        "    best_epoch = best_results['epochs'].loc[fold]\n",
        "    class_results = csv.loc[csv['epochs']==best_epoch]\n",
        "    \n",
        "    \n",
        "    for Class in class_results:\n",
        "      if Class != 'epochs':\n",
        "        fres = ast.literal_eval(class_results[Class].iloc[0])\n",
        "        for metrics, performances in fres.items():\n",
        "         if metrics != 'count':\n",
        "          average.at[Class,metrics] += performances\n",
        "\n",
        "          foldclass_results.loc[fold].at[Class,metrics]=performances\n",
        "          \n",
        "class_average = average/num_folds\n",
        "print(class_average)\n",
        "print('foldclass_results :',foldclass_results.shape)"
      ],
      "execution_count": null,
      "outputs": []
    },
    {
      "cell_type": "code",
      "metadata": {
        "id": "YrYq07QjUmVf"
      },
      "source": [
        "class_average.to_csv(results_path+'class_average.csv')   \n",
        "foldclass_results.to_csv(results_path+'foldclass_results.csv')   "
      ],
      "execution_count": null,
      "outputs": []
    },
    {
      "cell_type": "markdown",
      "metadata": {
        "id": "y-mOGdhrPb9k"
      },
      "source": [
        "# ***WEIGHTED F1***"
      ]
    },
    {
      "cell_type": "code",
      "metadata": {
        "id": "VeN8_g9oPbeH"
      },
      "source": [
        "#Compute Weighted F1 method\n",
        "fc = pd.read_csv(results_path+'foldclass_results.csv', index_col=[0])\n",
        "#print(fc.columns)\n",
        "weighted = []\n",
        "folders = []\n",
        "for fold in fc.index[1:]:\n",
        "  fw = 0\n",
        "  for clas in fc.columns:\n",
        "    if len(clas.split('.'))>1 and clas.split('.')[1]=='2':\n",
        "      #print(f'fold {fold} and class {clas}')\n",
        "      fw+=np.float(fc.loc[fold,clas])\n",
        "  fw = fw/num_classes\n",
        "  #print(fw)\n",
        "  weighted.append(fw)\n",
        "  folders.append(fold)\n",
        "\n",
        "\n",
        "avg_wf1=np.array(weighted).sum()/num_folds\n",
        "weighted.append(avg_wf1)\n",
        "folders.append('avg')\n",
        "perfold=pd.DataFrame(weighted,index=folders)\n",
        "print(perfold)"
      ],
      "execution_count": null,
      "outputs": []
    },
    {
      "cell_type": "code",
      "metadata": {
        "id": "uHP0dLNzMccT"
      },
      "source": [
        "perfold.to_csv(results_path+'weightedf1.csv')   "
      ],
      "execution_count": null,
      "outputs": []
    }
  ]
}