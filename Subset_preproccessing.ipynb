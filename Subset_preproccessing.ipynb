{
  "nbformat": 4,
  "nbformat_minor": 0,
  "metadata": {
    "colab": {
      "name": "Train_Dcase[model_1]_Verified_data_copy_1.ipynb",
      "provenance": [],
      "collapsed_sections": [],
      "authorship_tag": "ABX9TyP4YGhGTtWENDgaxQhGWThH"
    },
    "kernelspec": {
      "name": "python3",
      "display_name": "Python 3"
    }
  },
  "cells": [
    {
      "cell_type": "markdown",
      "metadata": {
        "id": "DB5BaLqyZghM",
        "colab_type": "text"
      },
      "source": [
        "Train on a random subset of the dcase dataset\n",
        "\n",
        "*   507: len(train_subset)\n",
        "*   110: len(valid_subset)\n"
      ]
    },
    {
      "cell_type": "code",
      "metadata": {
        "id": "gpjwhdvGr5ml",
        "colab_type": "code",
        "colab": {}
      },
      "source": [
        "#pip install tensorflow==2.0.0"
      ],
      "execution_count": 0,
      "outputs": []
    },
    {
      "cell_type": "code",
      "metadata": {
        "id": "7PE-8wnShUVP",
        "colab_type": "code",
        "outputId": "7d389f4d-6535-4c19-a51b-f6cd889881d4",
        "colab": {
          "base_uri": "https://localhost:8080/",
          "height": 36
        }
      },
      "source": [
        "from __future__ import absolute_import, division, print_function, unicode_literals\n",
        "\n",
        "import tensorflow as tf\n",
        "from tensorflow import keras\n",
        "from tensorflow.keras import datasets, layers, models\n",
        "\n",
        "import matplotlib.pyplot as plt\n",
        "import matplotlib.image as mpimg\n",
        "import numpy as np\n",
        "import os\n",
        "import pandas as pd\n",
        "\n",
        "print (tf.__version__)"
      ],
      "execution_count": 0,
      "outputs": [
        {
          "output_type": "stream",
          "text": [
            "2.2.0-rc4\n"
          ],
          "name": "stdout"
        }
      ]
    },
    {
      "cell_type": "code",
      "metadata": {
        "id": "XjLsYZanYrgO",
        "colab_type": "code",
        "outputId": "dc3d037f-42f8-4b37-bd88-6b8796de491d",
        "colab": {
          "base_uri": "https://localhost:8080/",
          "height": 36
        }
      },
      "source": [
        "from google.colab import drive\n",
        "drive.mount('/content/gdrive')\n",
        "#root_path = 'gdrive/My Drive/dissertation/dcase_dataset/'"
      ],
      "execution_count": 0,
      "outputs": [
        {
          "output_type": "stream",
          "text": [
            "Drive already mounted at /content/gdrive; to attempt to forcibly remount, call drive.mount(\"/content/gdrive\", force_remount=True).\n"
          ],
          "name": "stdout"
        }
      ]
    },
    {
      "cell_type": "code",
      "metadata": {
        "id": "nxC0buVghmBO",
        "colab_type": "code",
        "outputId": "7dd603ae-cb1d-47ab-8d99-9d273bba3a42",
        "colab": {
          "base_uri": "https://localhost:8080/",
          "height": 73
        }
      },
      "source": [
        "#LOADATA\n",
        "\n",
        "#Get annotations  info txt\n",
        "train_labels_path = \"/content/gdrive/My Drive/dissertation/dcase_dataset/method1/train_labels[verified_1].csv\"\n",
        "valid_labels_path=\"/content/gdrive/My Drive/dissertation/dcase_dataset/method1/valid_labels[verified_1].csv\"\n",
        "train_labels=pd.read_csv(train_labels_path)\n",
        "valid_labels=pd.read_csv(valid_labels_path)\n",
        "print(type(train_labels))\n",
        "print(train_labels.shape)\n",
        "\n",
        "#get the corresponding rows     wavs\n",
        "train_subset_path=\"/content/gdrive/My Drive/dissertation/dcase_dataset/subset/train\"\n",
        "valid_subset_path=\"/content/gdrive/My Drive/dissertation/dcase_dataset/subset/validation\"\n",
        "train_subset=os.listdir(train_subset_path)\n",
        "valid_subset=os.listdir(valid_subset_path)\n",
        "print(len(train_subset))"
      ],
      "execution_count": 0,
      "outputs": [
        {
          "output_type": "stream",
          "text": [
            "<class 'pandas.core.frame.DataFrame'>\n",
            "(9690, 78)\n",
            "507\n"
          ],
          "name": "stdout"
        }
      ]
    },
    {
      "cell_type": "code",
      "metadata": {
        "id": "SpTH6v8pa4jM",
        "colab_type": "code",
        "outputId": "1c1eccfc-9e5c-451c-99bd-4b6db321b086",
        "colab": {
          "base_uri": "https://localhost:8080/",
          "height": 54
        }
      },
      "source": [
        "#subset_labels\n",
        "train_subset_labels=train_labels.loc[train_labels['audio_filename'].isin(train_subset)]\n",
        "valid_subset_labels=valid_labels.loc[valid_labels['audio_filename'].isin(valid_subset)]\n",
        "\n",
        "#reset_indexes\n",
        "train_subset_labels.reset_index(inplace=True, drop=True, col_level='audio_filename')\n",
        "valid_subset_labels.reset_index(inplace=True, drop=True, col_level='audio_filename')\n",
        "\n",
        "print(train_subset_labels.shape)\n",
        "print(valid_subset_labels.shape)"
      ],
      "execution_count": 0,
      "outputs": [
        {
          "output_type": "stream",
          "text": [
            "(422, 78)\n",
            "(78, 78)\n"
          ],
          "name": "stdout"
        }
      ]
    },
    {
      "cell_type": "code",
      "metadata": {
        "id": "ZJRvDwAMjG2k",
        "colab_type": "code",
        "colab": {}
      },
      "source": [
        "#rename files in dir (.wav.png -->.png) {DONT_RUN}\n",
        "'''\n",
        "stopwords = '.wav'\n",
        "for filename in train_names:\n",
        "  \n",
        "  split=filename.split(\".\")\n",
        "  resultafn  = [afn for afn in split if afn.lower() not in stopwords]\n",
        "  result = '.'.join(resultafn)\n",
        "  dir=str(train_features_path+'/')\n",
        "  os.rename(dir+filename, dir+result)\n",
        "  #print(dir)\n",
        "  #print (result)\n",
        "\n",
        "stopwords = '.wav'\n",
        "for filename in valid_names:\n",
        "  \n",
        "  split=filename.split(\".\")\n",
        "  resultafn  = [afn for afn in split if afn.lower() not in stopwords]\n",
        "  result = '.'.join(resultafn)\n",
        "  dir=str(valid_features_path+'/')\n",
        "  os.rename(dir+filename, dir+result)\n",
        "'''"
      ],
      "execution_count": 0,
      "outputs": []
    },
    {
      "cell_type": "code",
      "metadata": {
        "id": "PzWdpwcHcHS5",
        "colab_type": "code",
        "colab": {}
      },
      "source": [
        "#run once{subset_labels,features} #erase extension in order to compare names #rename the files\n",
        "train_subset_labels['audio_filename'] = train_subset_labels['audio_filename'].str.split('.').str[0]\n",
        "valid_subset_labels['audio_filename'] = valid_subset_labels['audio_filename'].str.split('.').str[0]\n",
        "\n",
        "print(train_subset_labels['audio_filename'].head(5))\n",
        "#print(valid_subset_labels['audio_filename'])"
      ],
      "execution_count": 0,
      "outputs": []
    },
    {
      "cell_type": "code",
      "metadata": {
        "id": "Jh1mkjAMyw_M",
        "colab_type": "code",
        "outputId": "4c9eacb6-f0f5-4b37-871a-20626961747f",
        "colab": {
          "base_uri": "https://localhost:8080/",
          "height": 56
        }
      },
      "source": [
        "#get the corresponding feature names\n",
        "train_names=train_subset_labels['audio_filename']\n",
        "valid_names=valid_subset_labels['audio_filename']\n",
        "\n",
        "train_names=train_names+'.png'\n",
        "valid_names=valid_names+'.png'\n",
        "\n",
        "'''\n",
        "for i in range(len(train_names)):\n",
        "  print('train',train_names[i])\n",
        "  if(i<len(valid_names)):\n",
        "    print('valid',valid_names[i])\n",
        "\n",
        "print(type(train_names))\n",
        "print(len(train_names))\n",
        "print(len(valid_names))\n",
        "'''"
      ],
      "execution_count": 0,
      "outputs": [
        {
          "output_type": "execute_result",
          "data": {
            "text/plain": [
              "\"\\nfor i in range(len(train_names)):\\n  print('train',train_names[i])\\n  if(i<len(valid_names)):\\n    print('valid',valid_names[i])\\n\\nprint(type(train_names))\\nprint(len(train_names))\\nprint(len(valid_names))\\n\""
            ]
          },
          "metadata": {
            "tags": []
          },
          "execution_count": 5
        }
      ]
    },
    {
      "cell_type": "code",
      "metadata": {
        "id": "YGtfAfi2oc-2",
        "colab_type": "code",
        "colab": {}
      },
      "source": [
        "#redeposit extension acronym accordingly \n",
        "train_subset_labels['audio_filename']=train_subset_labels['audio_filename']+'.wav'\n",
        "valid_subset_labels['audio_filename']=valid_subset_labels['audio_filename']+'.wav'\n",
        "\n",
        "'''\n",
        "for i in range(len(train_subset_labels)):\n",
        "  print(train_subset_labels['audio_filename'].iloc[i])\n",
        "print(\".........................\")\n",
        "for i in range(len(valid_subset_labels)):\n",
        "  print(valid_subset_labels['audio_filename'].iloc[i])\n",
        "'''"
      ],
      "execution_count": 0,
      "outputs": []
    },
    {
      "cell_type": "code",
      "metadata": {
        "id": "5dH9PPcYsyO0",
        "colab_type": "code",
        "outputId": "9d7bba69-5630-444a-980a-e3f3d24e8306",
        "colab": {
          "base_uri": "https://localhost:8080/",
          "height": 54
        }
      },
      "source": [
        "#Store features\n",
        "train_features_path=\"/content/gdrive/My Drive/dissertation/dcase_dataset/features/subset/train\"\n",
        "valid_features_path=\"/content/gdrive/My Drive/dissertation/dcase_dataset/features/subset/validation\"\n",
        "\n",
        "train_fstack = [mpimg.imread(str(train_features_path+'/'+afn)) for afn in train_names]\n",
        "train_features=np.stack(train_fstack, axis=0)\n",
        "\n",
        "valid_fstack = [mpimg.imread(str(valid_features_path+'/'+afn)) for afn in valid_names]\n",
        "valid_features=np.stack(valid_fstack, axis=0)\n",
        "\n",
        "print(train_features.shape)\n",
        "print(valid_features.shape)"
      ],
      "execution_count": 0,
      "outputs": [
        {
          "output_type": "stream",
          "text": [
            "(422, 288, 432, 4)\n",
            "(78, 288, 432, 4)\n"
          ],
          "name": "stdout"
        }
      ]
    },
    {
      "cell_type": "code",
      "metadata": {
        "id": "c9_8XmiIvJN-",
        "colab_type": "code",
        "colab": {}
      },
      "source": [
        "#normalize values{Proved to be not neccessary}\n",
        "\n",
        "#train_features=train_features /255.0\n",
        "#valid_features=valid_features /255.0\n",
        "#print(np.amax(train_features, axis=1))\n",
        "\n",
        "print(\"TRAIN_FEATURES\\n\",train_features)\n",
        "print(\"VALIDATION_FEATURES\\n\",valid_features)"
      ],
      "execution_count": 0,
      "outputs": []
    },
    {
      "cell_type": "code",
      "metadata": {
        "id": "0vLU4jYGh7cO",
        "colab_type": "code",
        "colab": {}
      },
      "source": [
        "#discard columns that arent needed\n",
        "train_subset_labels=train_subset_labels.drop(['split','sensor_id','annotator_id', \\\n",
        "       '1-1_small-sounding-engine_proximity', \\\n",
        "       '1-2_medium-sounding-engine_proximity',  \\\n",
        "       '1-3_large-sounding-engine_proximity', \\\n",
        "       '1-X_engine-of-uncertain-size_proximity', '2-1_rock-drill_proximity',  \\\n",
        "       '2-2_jackhammer_proximity', '2-3_hoe-ram_proximity', \\\n",
        "       '2-4_pile-driver_proximity', \\\n",
        "       '2-X_other-unknown-impact-machinery_proximity',  \\\n",
        "       '3-1_non-machinery-impact_proximity', '4-1_chainsaw_proximity',  \\\n",
        "       '4-2_small-medium-rotating-saw_proximity', \\\n",
        "       '4-3_large-rotating-saw_proximity',  \\\n",
        "       '4-X_other-unknown-powered-saw_proximity', '5-1_car-horn_proximity', \\\n",
        "       '5-2_car-alarm_proximity', '5-3_siren_proximity',  \\\n",
        "       '5-4_reverse-beeper_proximity',  \\\n",
        "       '5-X_other-unknown-alert-signal_proximity',  \\\n",
        "       '6-1_stationary-music_proximity', '6-2_mobile-music_proximity',  \\\n",
        "       '6-3_ice-cream-truck_proximity', \\\n",
        "       '6-X_music-from-uncertain-source_proximity', \\\n",
        "       '7-1_person-or-small-group-talking_proximity', \\\n",
        "       '7-2_person-or-small-group-shouting_proximity',  \\\n",
        "       '7-3_large-crowd_proximity', '7-4_amplified-speech_proximity', \\\n",
        "       '7-X_other-unknown-human-voice_proximity', \\\n",
        "       '8-1_dog-barking-whining_proximity',],axis=1)\n",
        "\n",
        "valid_subset_labels=valid_subset_labels.drop(['split','sensor_id','annotator_id', \\\n",
        "       '1-1_small-sounding-engine_proximity', \\\n",
        "       '1-2_medium-sounding-engine_proximity',  \\\n",
        "       '1-3_large-sounding-engine_proximity', \\\n",
        "       '1-X_engine-of-uncertain-size_proximity', '2-1_rock-drill_proximity',  \\\n",
        "       '2-2_jackhammer_proximity', '2-3_hoe-ram_proximity', \\\n",
        "       '2-4_pile-driver_proximity', \\\n",
        "       '2-X_other-unknown-impact-machinery_proximity',  \\\n",
        "       '3-1_non-machinery-impact_proximity', '4-1_chainsaw_proximity',  \\\n",
        "       '4-2_small-medium-rotating-saw_proximity', \\\n",
        "       '4-3_large-rotating-saw_proximity',  \\\n",
        "       '4-X_other-unknown-powered-saw_proximity', '5-1_car-horn_proximity', \\\n",
        "       '5-2_car-alarm_proximity', '5-3_siren_proximity',  \\\n",
        "       '5-4_reverse-beeper_proximity',  \\\n",
        "       '5-X_other-unknown-alert-signal_proximity',  \\\n",
        "       '6-1_stationary-music_proximity', '6-2_mobile-music_proximity',  \\\n",
        "       '6-3_ice-cream-truck_proximity', \\\n",
        "       '6-X_music-from-uncertain-source_proximity', \\\n",
        "       '7-1_person-or-small-group-talking_proximity', \\\n",
        "       '7-2_person-or-small-group-shouting_proximity',  \\\n",
        "       '7-3_large-crowd_proximity', '7-4_amplified-speech_proximity', \\\n",
        "       '7-X_other-unknown-human-voice_proximity', \\\n",
        "       '8-1_dog-barking-whining_proximity',],axis=1)\n",
        "\n",
        "print(train_subset_labels.shape)\n",
        "print(train_subset_labels.columns)"
      ],
      "execution_count": 0,
      "outputs": []
    },
    {
      "cell_type": "code",
      "metadata": {
        "id": "kUY3Vq_tut3v",
        "colab_type": "code",
        "colab": {}
      },
      "source": [
        "#GET_CLASS_NAMES\n",
        "#Check MULTI INDEX HIERARCHICAL Taxonomy\n",
        "class_names=train_subset_labels.columns\n",
        "print(class_names)"
      ],
      "execution_count": 0,
      "outputs": []
    },
    {
      "cell_type": "code",
      "metadata": {
        "id": "UHwrcWt-xYFx",
        "colab_type": "code",
        "colab": {}
      },
      "source": [
        "#Visualize Feature Icons\n",
        "#put it in a def...\n",
        "#store features-normalize-build_model-train\n",
        "show_range=10\n",
        "for i in range(show_range):\n",
        "  plt.figure(figsize=(4, 4))\n",
        "  plt.xticks([])\n",
        "  plt.yticks([])\n",
        "  plt.grid(False)\n",
        "  plt.title(train_names[i], loc='center')\n",
        "  plt.imshow(train_features[i])\n",
        "  print(train_subset_labels['audio_filename'].iloc[i])\n",
        "  labels=[]\n",
        "  for label in (class_names[9:]):#not for the spatiotemporal features\n",
        "    if (train_labels[label].iloc[i]==1):\n",
        "      labels.append(label)\n",
        "  plt.xlabel(labels)\n",
        "  plt.show()"
      ],
      "execution_count": 0,
      "outputs": []
    },
    {
      "cell_type": "code",
      "metadata": {
        "id": "TX9x5IWtDcW4",
        "colab_type": "code",
        "colab": {}
      },
      "source": [
        "train_subset_labels=train_subset_labels.drop(['audio_filename'], axis=1)\n",
        "valid_subset_labels=valid_subset_labels.drop(['audio_filename'], axis=1)\n",
        "                                             \n",
        "print(train_subset_labels.columns)"
      ],
      "execution_count": 0,
      "outputs": []
    },
    {
      "cell_type": "code",
      "metadata": {
        "id": "-DwbdynlEwB6",
        "colab_type": "code",
        "outputId": "8c29301e-8558-4ed2-d02d-84a8cee8c226",
        "colab": {
          "base_uri": "https://localhost:8080/",
          "height": 36
        }
      },
      "source": [
        "print(len(train_subset_labels.columns))"
      ],
      "execution_count": 0,
      "outputs": [
        {
          "output_type": "stream",
          "text": [
            "45\n"
          ],
          "name": "stdout"
        }
      ]
    },
    {
      "cell_type": "code",
      "metadata": {
        "id": "KMZJ2lZp-BsB",
        "colab_type": "code",
        "colab": {}
      },
      "source": [
        "#build_model"
      ],
      "execution_count": 0,
      "outputs": []
    },
    {
      "cell_type": "code",
      "metadata": {
        "id": "f2y5rwZSvRvF",
        "colab_type": "code",
        "colab": {}
      },
      "source": [
        "#train"
      ],
      "execution_count": 0,
      "outputs": []
    },
    {
      "cell_type": "code",
      "metadata": {
        "id": "vkhev-TJCF7n",
        "colab_type": "code",
        "outputId": "2acd1a22-97a4-4bd2-ca83-cb476c87eae5",
        "colab": {
          "base_uri": "https://localhost:8080/",
          "height": 36
        }
      },
      "source": [
        "print(train_features.shape)"
      ],
      "execution_count": 0,
      "outputs": [
        {
          "output_type": "stream",
          "text": [
            "(422, 288, 432, 4)\n"
          ],
          "name": "stdout"
        }
      ]
    },
    {
      "cell_type": "code",
      "metadata": {
        "id": "z8Zt_zBSxBOe",
        "colab_type": "code",
        "colab": {}
      },
      "source": [
        "# Create a model\n",
        "model =  models.Sequential()\n",
        "model.add(layers.Conv2D(32, (3,3), activation= 'relu', input_shape= (422,288,4)))\n",
        "model.add(layers.MaxPool2D((2,2)))\n",
        "model.add(layers.Conv2D(64, (3,3), activation = 'relu'))\n",
        "model.add(layers.MaxPooling2D((2,2)))\n",
        "model.add(layers.Conv2D(64, (3, 3), activation= 'relu'))\n",
        "model.add(layers.Flatten())\n",
        "model.add(layers.Dense(128, activation = 'relu'))\n",
        "model.add(layers.Dense(45, activation= 'softmax'))#(len(train_subset_labels.columns))==45"
      ],
      "execution_count": 0,
      "outputs": []
    },
    {
      "cell_type": "code",
      "metadata": {
        "id": "emckB2Ky0KJ5",
        "colab_type": "code",
        "outputId": "a547ac77-0b40-484b-8fa0-09ea2475b98e",
        "colab": {
          "base_uri": "https://localhost:8080/",
          "height": 467
        }
      },
      "source": [
        "model.summary()"
      ],
      "execution_count": 0,
      "outputs": [
        {
          "output_type": "stream",
          "text": [
            "Model: \"sequential_1\"\n",
            "_________________________________________________________________\n",
            "Layer (type)                 Output Shape              Param #   \n",
            "=================================================================\n",
            "conv2d_3 (Conv2D)            (None, 420, 286, 32)      1184      \n",
            "_________________________________________________________________\n",
            "max_pooling2d_2 (MaxPooling2 (None, 210, 143, 32)      0         \n",
            "_________________________________________________________________\n",
            "conv2d_4 (Conv2D)            (None, 208, 141, 64)      18496     \n",
            "_________________________________________________________________\n",
            "max_pooling2d_3 (MaxPooling2 (None, 104, 70, 64)       0         \n",
            "_________________________________________________________________\n",
            "conv2d_5 (Conv2D)            (None, 102, 68, 64)       36928     \n",
            "_________________________________________________________________\n",
            "flatten_1 (Flatten)          (None, 443904)            0         \n",
            "_________________________________________________________________\n",
            "dense_2 (Dense)              (None, 128)               56819840  \n",
            "_________________________________________________________________\n",
            "dense_3 (Dense)              (None, 45)                5805      \n",
            "=================================================================\n",
            "Total params: 56,882,253\n",
            "Trainable params: 56,882,253\n",
            "Non-trainable params: 0\n",
            "_________________________________________________________________\n"
          ],
          "name": "stdout"
        }
      ]
    },
    {
      "cell_type": "code",
      "metadata": {
        "id": "4pE_aoZfezou",
        "colab_type": "code",
        "colab": {}
      },
      "source": [
        "#Define metrics\n",
        "METRICS = [\n",
        "      keras.metrics.TruePositives(name='tp'),\n",
        "      keras.metrics.FalsePositives(name='fp'),\n",
        "      keras.metrics.TrueNegatives(name='tn'),\n",
        "      keras.metrics.FalseNegatives(name='fn'), \n",
        "      keras.metrics.BinaryAccuracy(name='accuracy'),\n",
        "      keras.metrics.Precision(name='precision'),\n",
        "      keras.metrics.Recall(name='recall'),\n",
        "      keras.metrics.AUC(name='auc'),\n",
        "]"
      ],
      "execution_count": 0,
      "outputs": []
    },
    {
      "cell_type": "code",
      "metadata": {
        "id": "uCAM_TYn1AMT",
        "colab_type": "code",
        "colab": {}
      },
      "source": [
        "model.compile(optimizer= 'adam', \n",
        "              loss='sparse_categorical_crossentropy',\n",
        "              metrics= METIRCS)\n",
        "history= model.fit(train_images, train_labels, epochs=10,\n",
        "                   validation_data=(test_images, test_labels))"
      ],
      "execution_count": 0,
      "outputs": []
    },
    {
      "cell_type": "code",
      "metadata": {
        "id": "ikCVY9A02SKR",
        "colab_type": "code",
        "colab": {}
      },
      "source": [
        "#evaluation\n",
        "\n",
        "plt.plot(history.history['accuracy'], label = ['accuracy'])\n",
        "plt.plot(history.history['val_accuracy'], label = ['val_accuracy'])\n",
        "plt.xlabel('Epoch')\n",
        "plt.ylabel('Accuracy')\n",
        "plt.ylim([0.5, 1])\n",
        "plt.legend(loc= 'lower right')\n",
        "\n",
        "test_loss, test_acc = model.evaluate(test_images, test_labels, verbose = 2)"
      ],
      "execution_count": 0,
      "outputs": []
    },
    {
      "cell_type": "code",
      "metadata": {
        "id": "8RxdpO1Q3TPV",
        "colab_type": "code",
        "colab": {}
      },
      "source": [
        "print (test_acc)"
      ],
      "execution_count": 0,
      "outputs": []
    }
  ]
}