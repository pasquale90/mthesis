{
  "nbformat": 4,
  "nbformat_minor": 0,
  "metadata": {
    "colab": {
      "name": "music/speech_DATASET_INIT.ipynb",
      "provenance": [],
      "collapsed_sections": []
    },
    "kernelspec": {
      "name": "python3",
      "display_name": "Python 3"
    }
  },
  "cells": [
    {
      "cell_type": "code",
      "metadata": {
        "id": "xSAY0OZjcBnL",
        "colab_type": "code",
        "colab": {}
      },
      "source": [
        "#from scipy.io import wavfile\n",
        "import scipy.stats\n",
        "import numpy as np\n",
        "import librosa\n",
        "from tensorflow import keras\n",
        "import pandas as pd\n",
        "from pandas import Series"
      ],
      "execution_count": 0,
      "outputs": []
    },
    {
      "cell_type": "markdown",
      "metadata": {
        "id": "znLYcDXeuKUP",
        "colab_type": "text"
      },
      "source": [
        "GET DATA FROM GOOGLE DRIVE"
      ]
    },
    {
      "cell_type": "code",
      "metadata": {
        "id": "MolOVVHXjUvx",
        "colab_type": "code",
        "colab": {}
      },
      "source": [
        "from google.colab import drive\n",
        "drive.mount('/content/gdrive')\n",
        "!ls \"/content/gdrive/My Drive\""
      ],
      "execution_count": 0,
      "outputs": []
    },
    {
      "cell_type": "code",
      "metadata": {
        "id": "I4AcUOJ0jf5d",
        "colab_type": "code",
        "colab": {}
      },
      "source": [
        "s_dir = \"./gdrive/My Drive/music_speech_classification_dataset/sdata_.csv\"\n",
        "m_dir = \"./gdrive/My Drive/music_speech_classification_dataset/mdata_.csv\"\n",
        "test_dir = \"./gdrive/My Drive/music_speech_classification_dataset/test_data_.csv\"\n",
        "eval_dir_s= \"./gdrive/My Drive/music_speech_classification_dataset/eval_sdata_.csv\"\n",
        "eval_dir_m = \"./gdrive/My Drive/music_speech_classification_dataset/eval_mdata_.csv\""
      ],
      "execution_count": 0,
      "outputs": []
    },
    {
      "cell_type": "code",
      "metadata": {
        "id": "qA1BvVTNmSnQ",
        "colab_type": "code",
        "colab": {}
      },
      "source": [
        "s_rawdata = pd.read_csv(s_dir)\n",
        "m_rawdata = pd.read_csv(m_dir)\n",
        "test_rawdata = pd.read_csv(test_dir)\n",
        "evs_rawdata = pd.read_csv(eval_dir_s)\n",
        "evm_rawdata = pd.read_csv(eval_dir_m)"
      ],
      "execution_count": 0,
      "outputs": []
    },
    {
      "cell_type": "markdown",
      "metadata": {
        "id": "y8t14quUcKyQ",
        "colab_type": "text"
      },
      "source": [
        "BUILDING THE DATASET"
      ]
    },
    {
      "cell_type": "code",
      "metadata": {
        "id": "8P64Hf-RcNQe",
        "colab_type": "code",
        "outputId": "2e177254-903a-403c-ec2a-e1f4465cbfa2",
        "colab": {
          "base_uri": "https://localhost:8080/",
          "height": 127
        }
      },
      "source": [
        "#samprle rate\n",
        "sr= 22050\n",
        "\n",
        "#check data_samples\n",
        "print ('s_rawdata length:', len(s_rawdata))\n",
        "print ('s_rawdata: (sr)%d * 5min9s = '%sr, ((5*60)+9)*sr)\n",
        "\n",
        "print ('m_rawdata length:', len(m_rawdata))\n",
        "print ('m_rawdata: (sr)%d * 4m59s = '%sr, ((5*60)-1)*sr)\n",
        "\n",
        "print ('test_rawdata length:', len(test_rawdata))\n",
        "print ('test_rawdata: (sr)%d * 2min = '%sr, (2*60)*sr)"
      ],
      "execution_count": 5,
      "outputs": [
        {
          "output_type": "stream",
          "text": [
            "s_rawdata length: 6822047\n",
            "s_rawdata: (sr)22050 * 5min9s =  6813450\n",
            "m_rawdata length: 6608858\n",
            "m_rawdata: (sr)22050 * 4m59s =  6592950\n",
            "test_rawdata length: 2651595\n",
            "test_rawdata: (sr)22050 * 2min =  2646000\n"
          ],
          "name": "stdout"
        }
      ]
    },
    {
      "cell_type": "code",
      "metadata": {
        "id": "p2VG0WCfxLCr",
        "colab_type": "code",
        "colab": {}
      },
      "source": [
        "# convert from dataframe to ndarray\n",
        "sdata = s_rawdata.to_numpy()\n",
        "mdata = m_rawdata.to_numpy()\n",
        "test_data = test_rawdata.to_numpy()\n",
        "evs = evs_rawdata.to_numpy()\n",
        "evm = evm_rawdata.to_numpy()"
      ],
      "execution_count": 0,
      "outputs": []
    },
    {
      "cell_type": "code",
      "metadata": {
        "id": "6IceIq2uvxJr",
        "colab_type": "code",
        "outputId": "9e777362-b304-4f48-d292-d3f2db7fdfe0",
        "colab": {
          "base_uri": "https://localhost:8080/",
          "height": 109
        }
      },
      "source": [
        "#columns of raw audio\n",
        "print (sdata.shape)\n",
        "print (mdata.shape)\n",
        "print (test_data.shape)\n",
        "print (evs.shape)\n",
        "print (evm.shape)"
      ],
      "execution_count": 111,
      "outputs": [
        {
          "output_type": "stream",
          "text": [
            "(6822047,)\n",
            "(6608858,)\n",
            "(2651595,)\n",
            "(1993272, 1)\n",
            "(2012574, 1)\n"
          ],
          "name": "stdout"
        }
      ]
    },
    {
      "cell_type": "code",
      "metadata": {
        "id": "l-fc8YTLwxH2",
        "colab_type": "code",
        "outputId": "dbc94b3d-c412-420d-e170-3ca839892517",
        "colab": {
          "base_uri": "https://localhost:8080/",
          "height": 109
        }
      },
      "source": [
        "#type\n",
        "print (type(sdata))\n",
        "print (type(mdata))\n",
        "print (type(test_data))\n",
        "print (type(evs))\n",
        "print (type(evm))"
      ],
      "execution_count": 112,
      "outputs": [
        {
          "output_type": "stream",
          "text": [
            "<class 'numpy.ndarray'>\n",
            "<class 'numpy.ndarray'>\n",
            "<class 'numpy.ndarray'>\n",
            "<class 'numpy.ndarray'>\n",
            "<class 'numpy.ndarray'>\n"
          ],
          "name": "stdout"
        }
      ]
    },
    {
      "cell_type": "markdown",
      "metadata": {
        "id": "gpPj62tTfRMd",
        "colab_type": "text"
      },
      "source": [
        "Extract Features from raw audio"
      ]
    },
    {
      "cell_type": "code",
      "metadata": {
        "id": "BCY4s8qe11a3",
        "colab_type": "code",
        "colab": {}
      },
      "source": [
        "# this step is taken in order to provide 1D input into libosa.feature.mfcc - (X,1)table_takes it as 2D\n",
        "mdata =  np.reshape(mdata, len(mdata))\n",
        "sdata =  np.reshape(sdata, len(sdata))\n",
        "test_data = np.reshape(test_data, len (test_data))\n",
        "evs_data = np.reshape(evs, len(evs))\n",
        "evm_data = np.reshape(evm, len(evm))\n",
        "\n",
        "#print (evs_data.shape)\n",
        "#print (evm_data.shape)"
      ],
      "execution_count": 0,
      "outputs": []
    },
    {
      "cell_type": "markdown",
      "metadata": {
        "id": "reo0zKAu3shI",
        "colab_type": "text"
      },
      "source": [
        "Dataset-1 --> MFCCs(20 first)"
      ]
    },
    {
      "cell_type": "code",
      "metadata": {
        "id": "esXr8kUacIgE",
        "colab_type": "code",
        "outputId": "25f010d1-1769-4e9b-93a5-170318baa8bf",
        "colab": {
          "base_uri": "https://localhost:8080/",
          "height": 109
        }
      },
      "source": [
        "#Window size : 1024 due to simplicity --> should me far more less\n",
        "\n",
        "#training mfccs\n",
        "speech_mfccs = librosa.feature.mfcc(y=sdata, sr = sr, n_mfcc=20, hop_length=1024)\n",
        "music_mfccs = librosa.feature.mfcc(y=mdata, sr = sr, n_mfcc=20, hop_length=1024)\n",
        "print (\"speech mfccs shape: \", speech_mfccs.shape)\n",
        "print (\"music mffcs shape:\", music_mfccs.shape)\n",
        "\n",
        "#test mfccs\n",
        "test_mfccs = librosa.feature.mfcc(y=test_data, sr = sr, n_mfcc=20, hop_length=1024)\n",
        "print (\"test mffcs shape:\", test_mfccs.shape)\n",
        "\n",
        "#evaluation mfccs\n",
        "evs_mfccs = librosa.feature.mfcc(y= evs_data, sr =sr, n_mfcc=20, hop_length= 1024)\n",
        "evm_mfccs = librosa.feature.mfcc(y= evm_data, sr =sr, n_mfcc=20, hop_length= 1024)\n",
        "print (\"evs mffcs shape:\", evs_mfccs.shape)\n",
        "print (\"evm mffcs shape:\", evm_mfccs.shape)\n"
      ],
      "execution_count": 9,
      "outputs": [
        {
          "output_type": "stream",
          "text": [
            "speech mfccs shape:  (20, 6663)\n",
            "music mffcs shape: (20, 6454)\n",
            "test mffcs shape: (20, 2590)\n",
            "evs mffcs shape: (20, 1947)\n",
            "evm mffcs shape: (20, 1966)\n"
          ],
          "name": "stdout"
        }
      ]
    },
    {
      "cell_type": "code",
      "metadata": {
        "id": "y4bF7KGp5hul",
        "colab_type": "code",
        "outputId": "aa5c648f-5eb2-4cb5-93c1-1454c534a6de",
        "colab": {
          "base_uri": "https://localhost:8080/",
          "height": 109
        }
      },
      "source": [
        "#transpose tables --> rows-samples, columns mfccs || CARE TO DO IT ONLY ONCE!\n",
        "speech_mfccs=speech_mfccs.transpose()\n",
        "music_mfccs=music_mfccs.transpose()\n",
        "test_mfccs=test_mfccs.transpose()\n",
        "evs_mfccs=evs_mfccs.transpose()\n",
        "evm_mfccs=evm_mfccs.transpose()\n",
        "print(speech_mfccs.shape)\n",
        "print (music_mfccs.shape)\n",
        "print(test_mfccs.shape)\n",
        "print(evs_mfccs.shape)\n",
        "print(evm_mfccs.shape)"
      ],
      "execution_count": 10,
      "outputs": [
        {
          "output_type": "stream",
          "text": [
            "(6663, 20)\n",
            "(6454, 20)\n",
            "(2590, 20)\n",
            "(1947, 20)\n",
            "(1966, 20)\n"
          ],
          "name": "stdout"
        }
      ]
    },
    {
      "cell_type": "code",
      "metadata": {
        "id": "0rryk4z83rjM",
        "colab_type": "code",
        "colab": {
          "base_uri": "https://localhost:8080/",
          "height": 109
        },
        "outputId": "4b3e93da-a979-41fe-edd2-607dd4d1a008"
      },
      "source": [
        "#DEFINE LENGTHS AS VARS \n",
        "mfcc_len=len(music_mfccs.transpose())# for each of the 20 col-mfccs\n",
        "samples_length_music = len(music_mfccs)\n",
        "samples_length_speech = len(speech_mfccs)\n",
        "ev_len_s = len(evs_mfccs)\n",
        "ev_len_m = len(evm_mfccs)\n",
        "\n",
        "print (mfcc_len)\n",
        "print (samples_length_music)\n",
        "print (samples_length_speech)\n",
        "print (ev_len_s)\n",
        "print (ev_len_m)"
      ],
      "execution_count": 11,
      "outputs": [
        {
          "output_type": "stream",
          "text": [
            "20\n",
            "6454\n",
            "6663\n",
            "1947\n",
            "1966\n"
          ],
          "name": "stdout"
        }
      ]
    },
    {
      "cell_type": "code",
      "metadata": {
        "id": "MM-GQnJMLQD8",
        "colab_type": "code",
        "colab": {
          "base_uri": "https://localhost:8080/",
          "height": 54
        },
        "outputId": "57115575-e8fe-4dda-b9dd-61bd93631a44"
      },
      "source": [
        "#prepare tables for enter statistics\n",
        "#training\n",
        "mean_music = np.empty(mfcc_len)\n",
        "std_music = np.empty(mfcc_len)\n",
        "mean_speech =  np.empty(mfcc_len)#\n",
        "std_speech = np.empty(mfcc_len)#\n",
        "\n",
        "#evaluation\n",
        "e_means = np.empty(mfcc_len)\n",
        "e_stds = np.empty(mfcc_len)\n",
        "e_meanm = np.empty(mfcc_len)\n",
        "e_stdm =np.empty(mfcc_len)\n",
        "\n",
        "for col in range(mfcc_len):\n",
        "  #TRAIN_DATA\n",
        "  #MUSIC STATS\n",
        "  mean_music[col] =np.mean(music_mfccs[:,col],axis= 0)#για κάθε στήλη done\n",
        "  #print(\"mean:\" , meanm)\n",
        "  std_music[col] = np.std(music_mfccs[:,col],axis= 0) #gia κάθε στήλη done\n",
        "  #print (\"std:\" , stdm)\n",
        "  #SPEECH STATS\n",
        "  mean_speech[col] =np.mean(speech_mfccs[:,col],axis= 0)#mean for each mfcc column\n",
        "  std_speech[col] = np.std(speech_mfccs[:,col],axis= 0) #std for each mfcc\n",
        "\n",
        "  #EVALUATION_DATA\n",
        "  #MUSIC STATS\n",
        "  e_meanm[col] = np.mean(evm_mfccs[:,col],axis= 0)#mean για κάθε στήλη done\n",
        "  e_stdm[col] = np.std(evm_mfccs[:,col],axis= 0)\n",
        "  #SPEECH_STATS\n",
        "  e_means[col] =np.mean(evs_mfccs[:,col],axis= 0)#mean για κάθε στήλη done\n",
        "  e_stds[col] = np.std(evs_mfccs[:,col],axis= 0)\n",
        "  \n",
        "  #TESTING_DATA_\n",
        "  # ...............................\n",
        "\n",
        "print (\"music_mfccs shape:\", music_mfccs.shape)\n",
        "print (\"music_mfccs type:\", type(music_mfccs))\n"
      ],
      "execution_count": 12,
      "outputs": [
        {
          "output_type": "stream",
          "text": [
            "music_mfccs shape: (6454, 20)\n",
            "music_mfccs type: <class 'numpy.ndarray'>\n"
          ],
          "name": "stdout"
        }
      ]
    },
    {
      "cell_type": "code",
      "metadata": {
        "id": "WMrtV6DHLi29",
        "colab_type": "code",
        "colab": {}
      },
      "source": [
        "#initialize tables for normalized features to be stored\n",
        "#TRAINING_DATA\n",
        "normalized_music_mfccs = np.empty((samples_length_music,mfcc_len), dtype=float)\n",
        "normalized_speech_mfccs = np.empty((samples_length_speech,mfcc_len), dtype=float)\n",
        "#MUSIC\n",
        "for mfcc_col in range(mfcc_len):#0->19\n",
        "  for sample_row in range(samples_length_music):#0->sample_lenght of music mfccs table\n",
        "    normalized_music_mfccs[sample_row][mfcc_col]=(music_mfccs[sample_row,mfcc_col]-mean_music[mfcc_col])/std_music[mfcc_col]\n",
        "#SPEECH\n",
        "for mfcc_col in range(mfcc_len):#0->19\n",
        "  for sample_row in range(samples_length_speech):#0->sample_lenght of speech mfccs table\n",
        "    normalized_speech_mfccs[sample_row][mfcc_col]=(speech_mfccs[sample_row,mfcc_col]-mean_speech[mfcc_col])/std_speech[mfcc_col]\n",
        "\n",
        "#print (\"normalized_music shape:\",normalized_music_mfccs.shape)\n",
        "#print(\".......... \\n \\n\")\n",
        "#print (normalized_music_mfccs)"
      ],
      "execution_count": 0,
      "outputs": []
    },
    {
      "cell_type": "code",
      "metadata": {
        "id": "h8zTXHwwLe-S",
        "colab_type": "code",
        "colab": {}
      },
      "source": [
        "#EVALUATION_DATA\n",
        "e_norm_m = np.empty((ev_len_m,mfcc_len), dtype=float)\n",
        "e_norm_s = np.empty((ev_len_s,mfcc_len), dtype=float)\n",
        "print (e_norm_m.shape)\n",
        "print (e_norm_s.shape)\n",
        "\n",
        "#ev_MUSIC\n",
        "for mfcc_col in range(mfcc_len):#0->19\n",
        "  for sample_row in range(ev_len_m):#0->sample_lenght of evaluation _music mfccs table\n",
        "    e_norm_m[sample_row][mfcc_col]=(evm_mfccs[sample_row,mfcc_col]-e_meanm[mfcc_col])/e_stdm[mfcc_col]\n",
        "\n",
        "#ev_SPEECH\n",
        "for mfcc_col in range(mfcc_len):\n",
        "  for sample_row in range(ev_len_s):\n",
        "    e_norm_s[sample_row][mfcc_col]=(evs_mfccs[sample_row,mfcc_col]-e_means[mfcc_col])/e_stds[mfcc_col]\n"
      ],
      "execution_count": 0,
      "outputs": []
    },
    {
      "cell_type": "code",
      "metadata": {
        "id": "aLxN0p5sFLl6",
        "colab_type": "code",
        "colab": {}
      },
      "source": [
        "'''\n",
        "#SHOULD BE REMOVEDDDDDDDDDDDDDDDDDDDDDDDDDDDDDDDDDDDDDDDDDDDDDDDDDDDDDDD\n",
        "#normalization-->distance from highest value rather than distance for mean value\n",
        "print (music_mfccs.shape)\n",
        "normalized_mdata= librosa.util.normalize(m, norm = np.inf, axis = 0)#\n",
        "print (normalized_mdata[0:5,1])\n",
        "''"
      ],
      "execution_count": 0,
      "outputs": []
    },
    {
      "cell_type": "code",
      "metadata": {
        "id": "1DTfwOqa-S25",
        "colab_type": "code",
        "outputId": "73465b13-f19e-4699-8de7-91980fe48859",
        "colab": {
          "base_uri": "https://localhost:8080/",
          "height": 35
        }
      },
      "source": [
        "#add_labels before join data\n",
        "slabel = np.empty(samples_length_speech,dtype=int)\n",
        "mlabel = np.empty(samples_length_music,dtype=int)\n",
        "ev_len_s = len(evs_mfccs) \n",
        "\n",
        "es_label = np.empty(ev_len_s,dtype=object)\n",
        "em_label = np.empty(ev_len_m,dtype=object)\n",
        "\n",
        "for i in range (samples_length_speech):\n",
        "  slabel[i]=1  #for 'speech'\n",
        "\n",
        "for i in range (samples_length_music):\n",
        "  mlabel[i]=0 #for 'music'\n",
        "#print (slabel.shape)\n",
        "#print (mlabel.shape)\n",
        "#print (mlabel[0:10])\n",
        "#.........................................\n",
        "for i in range (ev_len_m):\n",
        "  em_label[i]='music'\n",
        "\n",
        "for i in range (ev_len_s):\n",
        "  es_label[i]='speech'\n",
        "\n",
        "labeled_sdata= np.c_[normalized_speech_mfccs,slabel]\n",
        "labeled_mdata= np.c_[normalized_music_mfccs,mlabel]\n",
        "#print (labeled_mdata.shape)\n",
        "#print (labeled_sdata.shape)\n",
        "\n",
        "ev_labeleds = np.c_[e_norm_s,es_label]\n",
        "ev_labeledm = np.c_[e_norm_m,em_label]\n",
        "#print (ev_labeleds[ev_len_s-1])\n",
        "#print (ev_labeledm[ev_len_m-1])\n",
        "print (ev_labeleds.shape)"
      ],
      "execution_count": 15,
      "outputs": [
        {
          "output_type": "stream",
          "text": [
            "(1947, 21)\n"
          ],
          "name": "stdout"
        }
      ]
    },
    {
      "cell_type": "code",
      "metadata": {
        "id": "sVLK8y39DWgg",
        "colab_type": "code",
        "outputId": "60291020-134f-48b7-86a9-c2dc94a15b24",
        "colab": {
          "base_uri": "https://localhost:8080/",
          "height": 127
        }
      },
      "source": [
        "#join_TRAININGdata\n",
        "labeled_data= np.r_[labeled_sdata,labeled_mdata]\n",
        "#print (labeled_data.shape)\n",
        "print (labeled_data[6663,:])\n",
        "\n",
        "#join_EVALUATION_data\n",
        "evaluation_labeled_data= np.r_[ev_labeleds,ev_labeledm]\n",
        "print (evaluation_labeled_data.shape)\n",
        "print (evaluation_labeled_data[:,20])#last column"
      ],
      "execution_count": 84,
      "outputs": [
        {
          "output_type": "stream",
          "text": [
            "[-0.23121111  1.5267318   0.57473059  0.36540785 -0.96146981  1.27290413\n",
            "  0.39883748  0.49579265  0.55643261  0.57715026  2.18849897  2.04645403\n",
            "  1.42426094 -0.06205785 -0.81587401 -1.53251648 -1.71490368 -1.12503171\n",
            "  0.68593534  0.85678288  0.        ]\n",
            "(3913, 21)\n",
            "['speech' 'speech' 'speech' ... 'music' 'music' 'music']\n"
          ],
          "name": "stdout"
        }
      ]
    },
    {
      "cell_type": "code",
      "metadata": {
        "id": "zQN35HAGVU2Z",
        "colab_type": "code",
        "colab": {}
      },
      "source": [
        "\"\"\"\n",
        "#suffle data -  should be done only if we had more than 1 files for training\n",
        "np.random.shuffle(labeled_data)\n",
        "print (\"labeled data:\\n\",labeled_data[6663,:])\n",
        "\n",
        "#check suffle\n",
        "'''\n",
        "stored random value before suffling\n",
        "-0.23121110910659604 1.5267318017759424 0.5747305939969028\n",
        " 0.3654078482502529 -0.961469807074541 1.2729041339190754\n",
        " 0.39883747511502204 0.4957926548305352 0.5564326117824315\n",
        " 0.5771502580162926 2.1884989732953675 2.0464540307670216\n",
        " 1.4242609395642258 -0.06205784889292296 -0.8158740115002427\n",
        " -1.532516476392707 -1.7149036762166014 -1.125031714838199\n",
        " 0.6859353386365241 0.8567828805231822 'music'\n",
        "'''\n",
        "result = np.where(labeled_data == -0.23121110910659604)\n",
        "print (labeled_data[result[0],:])\n",
        "\"\"\""
      ],
      "execution_count": 0,
      "outputs": []
    },
    {
      "cell_type": "code",
      "metadata": {
        "id": "sMD5Ukxss7rT",
        "colab_type": "code",
        "colab": {}
      },
      "source": [
        "#EXPORT_Training_DATA\n",
        "#print(\"Labeled_Data CHECK 0st row:\",labeled_data[0][:])\n",
        "\n",
        "#Deedn t need to convert directly to columns,rows just had the job done!\n",
        "#tag = np.empty(shape=(1,21), dtype=object) \n",
        "\n",
        "#Add names as the 1st row before exporting\n",
        "tag = np.empty(shape=(21), dtype=object)\n",
        "for col in range (len(tag.transpose())):\n",
        "  if col<(len(tag.transpose())-1):\n",
        "    tag[col] = (\"mfcc\"+str(col+1))\n",
        "  else:\n",
        "    tag[20]=\"Labels\"\n",
        "\n",
        "#print (tag.shape)\n",
        "#print (labeled_data.shape)\n",
        "train_data = pd.DataFrame(np.array(labeled_data),columns=tag)\n",
        "\n",
        "#print(\"Labels CHECK:\", train_data.loc[0])\n",
        "#print(\"train_data-dataframe: CHECK 1st row:\", train_data.loc[1])\n",
        "\n",
        "train_data.to_csv('Training_set.csv')\n",
        "#train_data.to_excel(\"Training_set_check.xlsx\")"
      ],
      "execution_count": 0,
      "outputs": []
    },
    {
      "cell_type": "code",
      "metadata": {
        "id": "xnHDNu_VxE-s",
        "colab_type": "code",
        "colab": {}
      },
      "source": [
        "#EXPORT_Evaluation_DATA\n",
        "#print(\"Labeled_Data CHECK 0st row:\",evaluation_labeled_data[0][:])\n",
        "\n",
        "#print (evaluation_labeled_data.shape)\n",
        "evaluation_data = pd.DataFrame(np.array(evaluation_labeled_data),columns=tag)\n",
        "\n",
        "#print(\"Labels CHECK:\", evaluation_data.loc[0])\n",
        "\n",
        "evaluation_data.to_csv('Evaluation_set.csv')\n",
        "#evaluation_data.to_excel(\"Evaluation_set_check.xlsx\")"
      ],
      "execution_count": 0,
      "outputs": []
    }
  ]
}