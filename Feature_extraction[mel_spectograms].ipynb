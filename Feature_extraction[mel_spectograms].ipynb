{
  "nbformat": 4,
  "nbformat_minor": 0,
  "metadata": {
    "colab": {
      "name": "ExtractFeatures[Mel Spectograms]_5.ipynb",
      "provenance": [],
      "collapsed_sections": [],
      "authorship_tag": "ABX9TyMVDYGtXiQsRhXYN296lApo"
    },
    "kernelspec": {
      "name": "python3",
      "display_name": "Python 3"
    }
  },
  "cells": [
    {
      "cell_type": "markdown",
      "metadata": {
        "id": "gZLn5pqayLIm",
        "colab_type": "text"
      },
      "source": [
        "TASK: 3 alternative windows\n",
        "\n",
        "window_1=10seconds=NO_WINDOW\n",
        "window_2=1sec ovrlap=50%\n",
        "window_3=22msec ovrlap=50%"
      ]
    },
    {
      "cell_type": "code",
      "metadata": {
        "id": "L7ziOGKuvlux",
        "colab_type": "code",
        "cellView": "both",
        "colab": {}
      },
      "source": [
        "from google.colab import drive\n",
        "drive.mount('/content/gdrive')\n",
        "#root_path = 'gdrive/My Drive/dissertation/dcase_dataset/'"
      ],
      "execution_count": 0,
      "outputs": []
    },
    {
      "cell_type": "code",
      "metadata": {
        "id": "bM1GUM2L-Dz9",
        "colab_type": "code",
        "colab": {}
      },
      "source": [
        "#Imports\n",
        "import os\n",
        "import pandas as pd\n",
        "import numpy as np\n",
        "import scipy as sp\n",
        "from scipy.io import wavfile\n",
        "#from scipy import signal\n",
        "import librosa\n",
        "import librosa.display\n",
        "import matplotlib.pyplot as plt\n",
        "import math"
      ],
      "execution_count": 0,
      "outputs": []
    },
    {
      "cell_type": "code",
      "metadata": {
        "id": "GdefQp8InlgO",
        "colab_type": "code",
        "colab": {}
      },
      "source": [
        "#Read the contents \n",
        "audio_path='gdrive/My Drive/dissertation/dcase_dataset/subset/train/'\n",
        "#audio_path='gdrive/My Drive/dissertation/dcase_dataset/subset/validation/'\n",
        "\n",
        "\n",
        "audio_files=os.listdir(audio_path)\n",
        "\n",
        "print (len(audio_files))\n",
        "print(type(audio_files))"
      ],
      "execution_count": 0,
      "outputs": []
    },
    {
      "cell_type": "code",
      "metadata": {
        "id": "v0VnEDNUwYuz",
        "colab_type": "code",
        "colab": {}
      },
      "source": [
        "'''\n",
        "#Store the names\n",
        "names=[]\n",
        "for afn in audio_files:\n",
        "  print(afn)\n",
        "  names.append(afn)\n",
        "\n",
        "print (names)\n",
        "'''"
      ],
      "execution_count": 0,
      "outputs": []
    },
    {
      "cell_type": "code",
      "metadata": {
        "id": "1DtCmAYcUuU8",
        "colab_type": "code",
        "colab": {}
      },
      "source": [
        "#visualize data\n",
        "for afn in audio_files[0:10]:\n",
        "  fs,data=sp.io.wavfile.read(filename=audio_path+afn, mmap=False)\n",
        "  print ('filename:',afn)\n",
        "  #mel_spectogram\n",
        "  S=librosa.feature.melspectrogram(y=data.astype(float), sr=fs, S=None, n_fft=nfft,power=2,n_mels=nmels)\n",
        "\n",
        "  log_S = librosa.power_to_db(S, ref=np.max)\n",
        "  plt.tight_layout()\n",
        "  plt.figure(figsize=(12,4))\n",
        "\n",
        "  librosa.display.specshow(S, sr=fs)\n",
        "\n",
        "  librosa.display.specshow(log_S, sr=fs, hop_length=overlap, x_axis='time', y_axis='mel')\n",
        "\n",
        "  plt.title(afn)\n",
        "\n",
        "  plt.colorbar(format='%+02.0f dB')\n",
        "\n",
        "  plt.tight_layout()\n",
        "\n",
        "  #plt.savefig(file+\".png\")\n",
        "  #Store data\n",
        "  #plt.savefig(afn+\".png\")\n",
        "  #plt.savefig(file+\"_\"+str(winum)+\".png\",transparent=True)"
      ],
      "execution_count": 0,
      "outputs": []
    },
    {
      "cell_type": "code",
      "metadata": {
        "id": "45s_8z9kuE2h",
        "colab_type": "code",
        "colab": {}
      },
      "source": [
        "print(audio_data.memory_usage(index=True,deep=True).sum())"
      ],
      "execution_count": 0,
      "outputs": []
    },
    {
      "cell_type": "code",
      "metadata": {
        "id": "RdqAkQJg8Mp6",
        "colab_type": "code",
        "colab": {}
      },
      "source": [
        "#CODE_MEL_SPEC_EXTRACTION {Without Storring Data}{WINDOW_0}\n",
        "\n",
        "#FEATURE EXTRACTION  {mel_spectogram/Audiofile  - NO WINDOW}\n",
        "\n",
        "#fft_points=2048, bins=128  | nowindow = 480000samples=4800samplerate for 10 sec duration\n",
        "\n",
        "\n",
        "#window_size=48000\n",
        "#overlap=24000\n",
        "nfft=2048\n",
        "nmels=128\n",
        "\n",
        "#Retrieving to each data_file\n",
        "for afn in audio_files:\n",
        "  fs,data=sp.io.wavfile.read(filename=audio_path+afn, mmap=False)\n",
        "  print ('filename:',afn)\n",
        "  #print(data.astype(float))\n",
        "  #mel_spectogram\n",
        "  S=librosa.feature.melspectrogram(y=data.astype(float), sr=fs, S=None, n_fft=nfft,power=2,n_mels=nmels)\n",
        "  log_S = librosa.power_to_db(S, ref=np.max)\n",
        "  librosa.display.specshow(log_S, sr=fs)\n",
        "  plt.tight_layout()\n",
        "  #Store data\n",
        "  plt.savefig(afn+\".png\")\n",
        "  #plt.savefig(file+\"_\"+str(winum)+\".png\",transparent=True)"
      ],
      "execution_count": 0,
      "outputs": []
    },
    {
      "cell_type": "code",
      "metadata": {
        "id": "y4E-VXQ9v4yn",
        "colab_type": "code",
        "colab": {}
      },
      "source": [
        "#CODE_MEL_SPEC_EXTRACTION {Without Storring Data}{WINDOW_1}/{WINDOW_2}\n",
        "\n",
        "#FEATURE EXTRACTION  {mel_spectograms  - win=1sec}\n",
        "\n",
        "#fft_points=2048, bins=128  | window 2=1sec->48000samples , overlap =0.5 sec->24000samples\n",
        "\n",
        "#window_1 {1sec}\n",
        "window_size=48000\n",
        "#window_2 {~22msec}\n",
        "#window_size=1024\n",
        "overlap=window_size/2#50%\n",
        "nfft=2048\n",
        "nmels=128\n",
        "\n",
        "def start_potition(win):\n",
        "  #return (24000*count)\n",
        "  return (window_size-overlap)*win\n",
        "def end_potition(win):\n",
        "  return start_potition(win)+window_size\n",
        "\n",
        "\n",
        "#Retrieving to each data_file\n",
        "for afn in audio_files:\n",
        "  fs,data=sp.io.wavfile.read(filename=audio_path+afn, mmap=False)\n",
        "  print ('filename:',afn)\n",
        "\n",
        "  winum=0\n",
        "\n",
        "  numframes=math.floor(((len(data)-window_size)/overlap)+1)\n",
        "\n",
        "  #break data to windows\n",
        "  while (winum <= numframes):\n",
        "    print(\"window:%d out of:%d\\tSample range from:%d to %d \"%(winum,numframes,start_potition(winum),end_potition(winum)))\n",
        "    \n",
        "    if(winum<numframes):\n",
        "      #hanning window function\n",
        "      hann = np.hanning(end_potition(winum)-start_potition(winum))\n",
        "      window=data[start_potition(winum):end_potition(winum)]*hann\n",
        "\n",
        "    #For the last frame, the remaining samples ought to be zero-padded left and right..\n",
        "    elif(winum==numframes):\n",
        "      hann = np.hanning(len(data)-start_potition(winum))\n",
        "      window=data[start_potition(winum):len(data)]*hann\n",
        "      #left and right\n",
        "      padding_left = np.zeros(int(round(((end_potition(winum)-len(data))/2.0))),dtype=float)\n",
        "      padding_right = np.zeros(int(round(((end_potition(winum)-len(data))/2.0))),dtype=float)\n",
        "      #Zero-Padding left and right\n",
        "      window = np.concatenate((padding_left,window), axis=0) \n",
        "      window = np.concatenate((window, padding_right), axis=0) \n",
        "\n",
        "    #check window size      \n",
        "    print('window shape',window.shape)\n",
        "  \n",
        "    #mel_spectogram\n",
        "    S=librosa.feature.melspectrogram(y=window, sr=fs, S=None, n_fft=nfft,power=2,n_mels=nmels)\n",
        "    log_S = librosa.power_to_db(S, ref=np.max)\n",
        "    librosa.display.specshow(log_S, sr=fs)\n",
        "    plt.tight_layout()\n",
        "    #Store data\n",
        "    plt.savefig(afn+\"_\"+str(winum)+\".png\")\n",
        "    #plt.savefig(file+\"_\"+str(winum)+\".png\",transparent=True)\n",
        "\n",
        "    #next window\n",
        "    winum += 1"
      ],
      "execution_count": 0,
      "outputs": []
    },
    {
      "cell_type": "code",
      "metadata": {
        "id": "0VhVJXd_eyL0",
        "colab_type": "code",
        "colab": {}
      },
      "source": [
        "print (window_size)\n",
        "print(window_size/(fs*10))\n",
        "c=float(window_size/float(fs*10))\n",
        "print('c=',c)\n",
        "\n",
        "print('np-divide',np.true_divide(window_size,float(fs*10)))\n",
        "print(round((c),0))\n",
        "print(round(8.333,0))\n",
        "print(int(round(window_size/(fs*10))))"
      ],
      "execution_count": 0,
      "outputs": []
    },
    {
      "cell_type": "code",
      "metadata": {
        "id": "9ob8iCl7yl4n",
        "colab_type": "code",
        "colab": {}
      },
      "source": [
        "#C:\\Users\\Alex\\Desktop\\Πασχάλης\\audio"
      ],
      "execution_count": 0,
      "outputs": []
    },
    {
      "cell_type": "markdown",
      "metadata": {
        "id": "jBcBYfX5sipe",
        "colab_type": "text"
      },
      "source": [
        "https://www.merlijnvanveen.nl/en/study-hall/21-how-window-size-determines-frequency-resolution\n",
        "\n",
        "https://dsp.stackexchange.com/questions/22175/how-should-i-select-window-size-and-overlap"
      ]
    },
    {
      "cell_type": "markdown",
      "metadata": {
        "id": "rDTYdu_BZ8wa",
        "colab_type": "text"
      },
      "source": [
        "upload from pi to gdrive\n",
        "https://variax.wordpress.com/2017/03/25/upload-avi-or-mp4-movie-files-from-raspberry-pi-to-google-drive/"
      ]
    },
    {
      "cell_type": "code",
      "metadata": {
        "id": "Aqr5F8YvKMDY",
        "colab_type": "code",
        "colab": {}
      },
      "source": [
        "#!zip -r /content/gdrive/My' 'Drive/dissertation/dcase_dataset/train/features.zip "
      ],
      "execution_count": 0,
      "outputs": []
    },
    {
      "cell_type": "code",
      "metadata": {
        "id": "MN3ylVkRK5eP",
        "colab_type": "code",
        "colab": {}
      },
      "source": [
        "#from google.colab import files\n",
        "#files.download(\"/content/\"+feat_path[:-1]+\".zip\")"
      ],
      "execution_count": 0,
      "outputs": []
    }
  ]
}